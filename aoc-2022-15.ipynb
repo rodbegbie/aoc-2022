{
 "cells": [
  {
   "cell_type": "code",
   "execution_count": 44,
   "metadata": {},
   "outputs": [],
   "source": [
    "INPUT = \"\"\"Sensor at x=2208586, y=2744871: closest beacon is at x=2094814, y=3380585\n",
    "Sensor at x=3937279, y=2452476: closest beacon is at x=3597034, y=2313095\n",
    "Sensor at x=3535638, y=3151860: closest beacon is at x=4098735, y=3373876\n",
    "Sensor at x=1867584, y=2125870: closest beacon is at x=2685670, y=2236965\n",
    "Sensor at x=2290971, y=1583182: closest beacon is at x=2685670, y=2236965\n",
    "Sensor at x=3137806, y=2216828: closest beacon is at x=3233556, y=2000000\n",
    "Sensor at x=3393352, y=331000: closest beacon is at x=3233556, y=2000000\n",
    "Sensor at x=1444302, y=821689: closest beacon is at x=1683873, y=-199301\n",
    "Sensor at x=1084667, y=3412239: closest beacon is at x=2094814, y=3380585\n",
    "Sensor at x=439341, y=3916996: closest beacon is at x=-290982, y=4102300\n",
    "Sensor at x=295460, y=2114590: closest beacon is at x=362644, y=370187\n",
    "Sensor at x=2212046, y=3819484: closest beacon is at x=2094814, y=3380585\n",
    "Sensor at x=3413280, y=3862465: closest beacon is at x=4098735, y=3373876\n",
    "Sensor at x=3744934, y=1572303: closest beacon is at x=3597034, y=2313095\n",
    "Sensor at x=3349047, y=2522469: closest beacon is at x=3597034, y=2313095\n",
    "Sensor at x=171415, y=591241: closest beacon is at x=362644, y=370187\n",
    "Sensor at x=3237499, y=2150414: closest beacon is at x=3233556, y=2000000\n",
    "Sensor at x=559077, y=454593: closest beacon is at x=362644, y=370187\n",
    "Sensor at x=3030733, y=2047512: closest beacon is at x=3233556, y=2000000\n",
    "Sensor at x=1667358, y=3956837: closest beacon is at x=2094814, y=3380585\n",
    "Sensor at x=1850337, y=98963: closest beacon is at x=1683873, y=-199301\n",
    "Sensor at x=2699546, y=3157824: closest beacon is at x=2094814, y=3380585\n",
    "Sensor at x=1113195, y=98130: closest beacon is at x=1683873, y=-199301\n",
    "Sensor at x=59337, y=246804: closest beacon is at x=362644, y=370187\n",
    "Sensor at x=566043, y=29068: closest beacon is at x=362644, y=370187\n",
    "Sensor at x=2831421, y=2581088: closest beacon is at x=2685670, y=2236965\n",
    "Sensor at x=597818, y=749461: closest beacon is at x=362644, y=370187\"\"\"\n",
    "\n",
    "TEST_Y = 2000000\n",
    "MAX_SEARCH = 4000000"
   ]
  },
  {
   "cell_type": "code",
   "execution_count": 42,
   "metadata": {},
   "outputs": [],
   "source": [
    "# SAMPLE\n",
    "\n",
    "INPUT = \"\"\"Sensor at x=2, y=18: closest beacon is at x=-2, y=15\n",
    "Sensor at x=9, y=16: closest beacon is at x=10, y=16\n",
    "Sensor at x=13, y=2: closest beacon is at x=15, y=3\n",
    "Sensor at x=12, y=14: closest beacon is at x=10, y=16\n",
    "Sensor at x=10, y=20: closest beacon is at x=10, y=16\n",
    "Sensor at x=14, y=17: closest beacon is at x=10, y=16\n",
    "Sensor at x=8, y=7: closest beacon is at x=2, y=10\n",
    "Sensor at x=2, y=0: closest beacon is at x=2, y=10\n",
    "Sensor at x=0, y=11: closest beacon is at x=2, y=10\n",
    "Sensor at x=20, y=14: closest beacon is at x=25, y=17\n",
    "Sensor at x=17, y=20: closest beacon is at x=21, y=22\n",
    "Sensor at x=16, y=7: closest beacon is at x=15, y=3\n",
    "Sensor at x=14, y=3: closest beacon is at x=15, y=3\n",
    "Sensor at x=20, y=1: closest beacon is at x=15, y=3\"\"\"\n",
    "\n",
    "TEST_Y = 10\n",
    "MAX_SEARCH = 20"
   ]
  },
  {
   "cell_type": "code",
   "execution_count": 46,
   "metadata": {},
   "outputs": [
    {
     "name": "stdout",
     "output_type": "stream",
     "text": [
      "5607466\n"
     ]
    }
   ],
   "source": [
    "# Part 1\n",
    "\n",
    "x_in_test_row = set()\n",
    "\n",
    "for row in INPUT.splitlines():\n",
    "    rowbits = row.split(\", y=\")\n",
    "    sensor_x = int(rowbits[0].split(\"=\")[1])\n",
    "    sensor_y = int(rowbits[1].split(\":\")[0])\n",
    "    beacon_x = int(rowbits[1].split(\"=\")[1])\n",
    "    beacon_y = int(rowbits[2])\n",
    "    distance = abs(sensor_x - beacon_x) + abs(sensor_y - beacon_y)\n",
    "\n",
    "    # print (rowbits, sensor_x, sensor_y, beacon_x, beacon_y, distance)\n",
    "\n",
    "    diff = distance - abs(sensor_y - TEST_Y)\n",
    "    for x in range(sensor_x - diff, sensor_x + diff):\n",
    "        x_in_test_row.add(x)\n",
    "    \n",
    "print (len(x_in_test_row))\n",
    "\n",
    "    \n"
   ]
  },
  {
   "cell_type": "code",
   "execution_count": 31,
   "metadata": {},
   "outputs": [
    {
     "name": "stdout",
     "output_type": "stream",
     "text": [
      "3135800 2766584 12543202766584\n"
     ]
    },
    {
     "ename": "ZeroDivisionError",
     "evalue": "division by zero",
     "output_type": "error",
     "traceback": [
      "\u001b[0;31m---------------------------------------------------------------------------\u001b[0m",
      "\u001b[0;31mZeroDivisionError\u001b[0m                         Traceback (most recent call last)",
      "Cell \u001b[0;32mIn[31], line 32\u001b[0m\n\u001b[1;32m     30\u001b[0m \u001b[39mif\u001b[39;00m possible:\n\u001b[1;32m     31\u001b[0m     \u001b[39mprint\u001b[39m (test_x, test_y, (\u001b[39m4000000\u001b[39m \u001b[39m*\u001b[39m test_x) \u001b[39m+\u001b[39m test_y)\n\u001b[0;32m---> 32\u001b[0m     \u001b[39m5\u001b[39;49m\u001b[39m/\u001b[39;49m\u001b[39m0\u001b[39;49m\n",
      "\u001b[0;31mZeroDivisionError\u001b[0m: division by zero"
     ]
    }
   ],
   "source": [
    "# Part 2\n",
    "\n",
    "known = []\n",
    "\n",
    "for row in INPUT.splitlines():\n",
    "    rowbits = row.split(\", y=\")\n",
    "    sensor_x = int(rowbits[0].split(\"=\")[1])\n",
    "    sensor_y = int(rowbits[1].split(\":\")[0])\n",
    "    beacon_x = int(rowbits[1].split(\"=\")[1])\n",
    "    beacon_y = int(rowbits[2])\n",
    "    distance = abs(sensor_x - beacon_x) + abs(sensor_y - beacon_y)\n",
    "\n",
    "    known.append((sensor_x, sensor_y, beacon_x, beacon_y, distance))\n",
    "\n",
    "    # print (rowbits, sensor_x, sensor_y, beacon_x, beacon_y, distance)\n",
    "\n",
    "for test_y in range(MAX_SEARCH):\n",
    "    # if not test_y % 100000:\n",
    "    #     print(\"Y\", test_y)\n",
    "    test_x = 0\n",
    "    while test_x < MAX_SEARCH:\n",
    "        possible = True\n",
    "        for (sensor_x, sensor_y, beacon_x, beacon_y, distance) in known:\n",
    "            diff = distance - abs(sensor_y - test_y)\n",
    "            if test_x in range(sensor_x - diff, sensor_x + diff + 1):\n",
    "                possible = False\n",
    "                test_x = sensor_x + diff + 1\n",
    "                break\n",
    "        \n",
    "        if possible:\n",
    "            print (test_x, test_y, (4000000 * test_x) + test_y)\n",
    "            5/0\n",
    "\n",
    "\n",
    "    \n"
   ]
  },
  {
   "cell_type": "code",
   "execution_count": null,
   "metadata": {},
   "outputs": [],
   "source": []
  }
 ],
 "metadata": {
  "kernelspec": {
   "display_name": "Python 3",
   "language": "python",
   "name": "python3"
  },
  "language_info": {
   "codemirror_mode": {
    "name": "ipython",
    "version": 3
   },
   "file_extension": ".py",
   "mimetype": "text/x-python",
   "name": "python",
   "nbconvert_exporter": "python",
   "pygments_lexer": "ipython3",
   "version": "3.10.8"
  },
  "orig_nbformat": 4,
  "vscode": {
   "interpreter": {
    "hash": "b0fa6594d8f4cbf19f97940f81e996739fb7646882a419484c72d19e05852a7e"
   }
  }
 },
 "nbformat": 4,
 "nbformat_minor": 2
}
